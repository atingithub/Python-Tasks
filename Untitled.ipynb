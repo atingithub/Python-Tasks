{
 "cells": [
  {
   "cell_type": "code",
   "execution_count": 4,
   "metadata": {},
   "outputs": [
    {
     "name": "stdout",
     "output_type": "stream",
     "text": [
      "0    a\n",
      "1    b\n",
      "2    c\n",
      "3    d\n",
      "dtype: object\n"
     ]
    }
   ],
   "source": [
    "import pandas as pd\n",
    "import numpy as np\n",
    "data = np.array(['a', 'b', 'c', 'd'])\n",
    "s = pd.Series(data)\n",
    "print(s)"
   ]
  },
  {
   "cell_type": "code",
   "execution_count": null,
   "metadata": {},
   "outputs": [],
   "source": [
    "print s\n"
   ]
  },
  {
   "cell_type": "code",
   "execution_count": 11,
   "metadata": {},
   "outputs": [
    {
     "name": "stdout",
     "output_type": "stream",
     "text": [
      "           a         b         c         d\n",
      "0   0.249932  0.158433  0.085020  0.089986\n",
      "1   0.657075  0.662579  0.891944  0.301147\n",
      "2   0.968987  0.263120  0.986474  0.589990\n",
      "3   0.511007  0.654376  0.490235  0.619171\n",
      "4   0.457146  0.483947  0.221777  0.771423\n",
      "5   0.530108  0.330437  0.634121  0.734797\n",
      "6   0.317377  0.433120  0.377177  0.748608\n",
      "7   0.423536  0.482959  0.551344  0.824260\n",
      "8   0.314267  0.827212  0.572968  0.208838\n",
      "9   0.342975  0.554779  0.784394  0.931109\n",
      "10  0.817677  0.310544  0.414818  0.460407\n",
      "11  0.442212  0.216365  0.299537  0.655992\n",
      "12  0.743085  0.957748  0.433106  0.640345\n",
      "13  0.422998  0.459784  0.173874  0.861241\n",
      "14  0.011348  0.801193  0.958023  0.366261\n",
      "15  0.963832  0.549456  0.076883  0.598359\n",
      "16  0.391420  0.081576  0.927731  0.526023\n",
      "17  0.634671  0.987551  0.945431  0.838453\n",
      "18  0.854458  0.276228  0.645666  0.371851\n",
      "19  0.417524  0.916956  0.890142  0.606842\n",
      "20  0.193520  0.290536  0.425829  0.983503\n",
      "21  0.302066  0.007193  0.812818  0.180611\n",
      "22  0.421714  0.098646  0.969040  0.789352\n",
      "23  0.070857  0.578701  0.406144  0.531891\n",
      "24  0.132981  0.976217  0.786059  0.036595\n",
      "25  0.860488  0.351527  0.512399  0.934203\n",
      "26  0.278861  0.583721  0.532718  0.165042\n",
      "27  0.105108  0.826621  0.176535  0.404943\n",
      "28  0.856777  0.022824  0.846216  0.017173\n",
      "29  0.780449  0.392565  0.459820  0.832744\n",
      "30  0.802356  0.873483  0.641023  0.824022\n",
      "31  0.247082  0.543940  0.340983  0.268086\n",
      "32  0.119056  0.355654  0.031009  0.334657\n",
      "33  0.308421  0.553204  0.607555  0.195047\n",
      "34  0.464453  0.445754  0.532656  0.608314\n",
      "35  0.812314  0.057478  0.753194  0.346226\n",
      "36  0.636867  0.080367  0.737179  0.655532\n",
      "37  0.975033  0.758630  0.745929  0.215373\n",
      "38  0.657329  0.204186  0.078752  0.243856\n",
      "39  0.903265  0.094738  0.831091  0.964766\n",
      "40  0.752445  0.657128  0.670794  0.960134\n",
      "41  0.586056  0.403682  0.101449  0.497909\n",
      "42  0.814150  0.332074  0.972384  0.373807\n",
      "43  0.768457  0.524385  0.049272  0.630231\n",
      "44  0.981058  0.755732  0.062636  0.633461\n",
      "45  0.580702  0.217495  0.919797  0.010140\n",
      "46  0.024380  0.749971  0.399532  0.079142\n",
      "47  0.811685  0.922959  0.154929  0.173875\n",
      "48  0.529158  0.779088  0.457824  0.955417\n",
      "49  0.491634  0.556473  0.775490  0.722549\n"
     ]
    },
    {
     "data": {
      "image/png": "[encoded data removed]",
      "text/plain": [
       "<Figure size 432x288 with 1 Axes>"
      ]
     },
     "metadata": {},
     "output_type": "display_data"
    }
   ],
   "source": [
    "import pandas as pd\n",
    "import numpy as np\n",
    "df = pd.DataFrame(np.random.rand(50,4), columns=['a', 'b', 'c', 'd'])\n",
    "df.plot.scatter(x='a',y='b')\n",
    "print(df)"
   ]
  },
  {
   "cell_type": "code",
   "execution_count": null,
   "metadata": {},
   "outputs": [],
   "source": []
  }
 ],
 "metadata": {
  "kernelspec": {
   "display_name": "Python 3",
   "language": "python",
   "name": "python3"
  },
  "language_info": {
   "codemirror_mode": {
    "name": "ipython",
    "version": 3
   },
   "file_extension": ".py",
   "mimetype": "text/x-python",
   "name": "python",
   "nbconvert_exporter": "python",
   "pygments_lexer": "ipython3",
   "version": "3.6.5"
  }
 },
 "nbformat": 4,
 "nbformat_minor": 2
}
